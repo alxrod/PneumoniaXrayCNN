{
 "cells": [
  {
   "cell_type": "code",
   "execution_count": 86,
   "metadata": {},
   "outputs": [],
   "source": [
    "import os\n",
    "from PIL import Image\n",
    "import PIL as pil"
   ]
  },
  {
   "cell_type": "code",
   "execution_count": 156,
   "metadata": {},
   "outputs": [],
   "source": [
    "# reuse this when necessary\n",
    "directory = \"./val/\"\n",
    "nameList = os.listdir(directory)\n",
    "imageNames = []\n",
    "for f in nameList:\n",
    "    if \"normal\" in f or \"pneumonia\" in f:\n",
    "        imageNames.append(f)"
   ]
  },
  {
   "cell_type": "code",
   "execution_count": 96,
   "metadata": {},
   "outputs": [],
   "source": [
    "def getSize(imName,directory):\n",
    "    im = Image.open(directory+imName)\n",
    "    return im.size"
   ]
  },
  {
   "cell_type": "code",
   "execution_count": 28,
   "metadata": {},
   "outputs": [],
   "source": [
    "sizes = []\n",
    "for image in imageNames:\n",
    "    sizes.append(getSize(image,directory))"
   ]
  },
  {
   "cell_type": "code",
   "execution_count": 157,
   "metadata": {},
   "outputs": [],
   "source": [
    "# Resizing and cropping images\n",
    "baseheight = 64\n",
    "for image in imageNames:\n",
    "    img = Image.open(directory+image)\n",
    "    hpercent = (baseheight / float(img.size[1]))\n",
    "    wsize = int((float(img.size[0]) * float(hpercent)))\n",
    "    img = img.resize((wsize, baseheight), pil.Image.ANTIALIAS)\n",
    "    \n",
    "    left = (img.size[0] - 64)/2\n",
    "    right = (img.size[0] + 64)/2\n",
    "    dif = img.size[0]-64\n",
    "    img = img.crop((dif/2, 0, img.size[0]-(dif/2), img.size[1]))\n",
    "    \n",
    "#   finish crop correctly\n",
    "    img = img.crop((0,0,64,64))\n",
    "    \n",
    "    img = img.convert('L')\n",
    "    img.save(directory+\"resized_\"+image+\".png\")"
   ]
  },
  {
   "cell_type": "code",
   "execution_count": 68,
   "metadata": {},
   "outputs": [
    {
     "data": {
      "image/png": "[encoded data removed]",
      "text/plain": [
       "<PIL.Image.Image image mode=L size=65x64 at 0x7FBDA0833250>"
      ]
     },
     "execution_count": 68,
     "metadata": {},
     "output_type": "execute_result"
    }
   ],
   "source": [
    "# Testing Cropping a single image\n",
    "im = Image.open(\"./resized_train/\"+\"resized_train_normal_1.jpeg\")\n",
    "left = (width - 64)/2\n",
    "right = (width + 64)/2\n",
    "dif = im.size[0]-64\n",
    "im.crop((dif/2, 0, im.size[0]-(dif/2), im.size[1]))\n"
   ]
  },
  {
   "cell_type": "code",
   "execution_count": 121,
   "metadata": {},
   "outputs": [],
   "source": [
    "import numpy as np\n",
    "img = Image.open(\"./resized_train/\"+\"resized_train_normal_1.png\").convert('L')\n",
    "arr = np.array(img)"
   ]
  },
  {
   "cell_type": "code",
   "execution_count": 162,
   "metadata": {},
   "outputs": [],
   "source": [
    "class ImageInput(object):\n",
    "    pass"
   ]
  }
 ],
 "metadata": {
  "kernelspec": {
   "display_name": "Python 2",
   "language": "python",
   "name": "python2"
  },
  "language_info": {
   "codemirror_mode": {
    "name": "ipython",
    "version": 2
   },
   "file_extension": ".py",
   "mimetype": "text/x-python",
   "name": "python",
   "nbconvert_exporter": "python",
   "pygments_lexer": "ipython2",
   "version": "2.7.15"
  }
 },
 "nbformat": 4,
 "nbformat_minor": 2
}
