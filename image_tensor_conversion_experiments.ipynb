{
 "cells": [
  {
   "cell_type": "code",
   "execution_count": 110,
   "metadata": {},
   "outputs": [
    {
     "data": {
      "text/plain": [
       "'1.13.1'"
      ]
     },
     "execution_count": 110,
     "metadata": {},
     "output_type": "execute_result"
    }
   ],
   "source": [
    "from __future__ import absolute_import, division, print_function\n",
    "import tensorflow as tf\n",
    "# tf.enable_eager_execution()\n",
    "tf.VERSION"
   ]
  },
  {
   "cell_type": "code",
   "execution_count": 111,
   "metadata": {},
   "outputs": [],
   "source": [
    "import pathlib\n",
    "import os\n",
    "\n",
    "# reuse this when necessary\n",
    "directory = \"./train/\"\n",
    "nameList = os.listdir(directory)\n",
    "imageNames = []\n",
    "for f in nameList:\n",
    "    if \"resized\" in f:\n",
    "        imageNames.append(f)"
   ]
  },
  {
   "cell_type": "code",
   "execution_count": 118,
   "metadata": {},
   "outputs": [],
   "source": [
    "import random\n",
    "random.shuffle(imageNames)\n",
    "\n",
    "image_count = len(imageNames)\n",
    "image_count\n",
    "\n",
    "filePaths = []\n",
    "for f in imageNames:\n",
    "    filePaths.append(directory+f)"
   ]
  },
  {
   "cell_type": "code",
   "execution_count": 119,
   "metadata": {},
   "outputs": [
    {
     "data": {
      "image/png": "[encoded data removed]",
      "text/plain": [
       "<IPython.core.display.Image object>"
      ]
     },
     "metadata": {},
     "output_type": "display_data"
    },
    {
     "data": {
      "image/png": "[encoded data removed]",
      "text/plain": [
       "<IPython.core.display.Image object>"
      ]
     },
     "metadata": {},
     "output_type": "display_data"
    },
    {
     "data": {
      "image/png": "[encoded data removed]",
      "text/plain": [
       "<IPython.core.display.Image object>"
      ]
     },
     "metadata": {},
     "output_type": "display_data"
    }
   ],
   "source": [
    "import IPython.display as display\n",
    "\n",
    "for n in range(3):\n",
    "    image_path = random.choice(filePaths)\n",
    "    display.display(display.Image(image_path))\n",
    "    print"
   ]
  },
  {
   "cell_type": "code",
   "execution_count": 120,
   "metadata": {},
   "outputs": [
    {
     "data": {
      "text/plain": [
       "{'normal': 1, 'pneumonia': 0}"
      ]
     },
     "execution_count": 120,
     "metadata": {},
     "output_type": "execute_result"
    }
   ],
   "source": [
    "label_names = [\"pneumonia\", \"normal\"]\n",
    "label_to_index = dict((name, index) for index,name in enumerate(label_names))\n",
    "label_to_index"
   ]
  },
  {
   "cell_type": "code",
   "execution_count": 121,
   "metadata": {},
   "outputs": [
    {
     "name": "stdout",
     "output_type": "stream",
     "text": [
      "all set\n",
      "[0, 0, 0, 1, 0, 0, 0, 1, 0, 0]\n"
     ]
    }
   ],
   "source": [
    "all_labels = []\n",
    "for f in filePaths:\n",
    "    if \"normal\" in f:\n",
    "        all_labels.append(1)\n",
    "    elif \"pneumonia\" in f:\n",
    "        all_labels.append(0)\n",
    "    \n",
    "if len(all_labels) != len(filePaths):\n",
    "    print(\"Not working\")\n",
    "else: \n",
    "    print (\"all set\")\n",
    "\n",
    "print(all_labels[:10])"
   ]
  },
  {
   "cell_type": "code",
   "execution_count": 126,
   "metadata": {},
   "outputs": [],
   "source": [
    "img_path = filePaths[0]\n",
    "img_raw = tf.read_file(img_path)\n",
    "# img_raw\n",
    "img_tensor = tf.cast(tf.image.decode_image(img_raw),tf.float32)\n",
    "img_tensor.shape\n",
    "tmpSess = tf.Session()\n",
    "img_tensor = img_tensor.eval(session=tmpSess)\n",
    "# tempSess = tf.Session()\n",
    "# print(img_tensor)\n",
    "# print(tempSess.run(img_tensor))\n",
    "# print(repr(img_raw)[:100]+\"...\")"
   ]
  },
  {
   "cell_type": "code",
   "execution_count": 127,
   "metadata": {},
   "outputs": [
    {
     "name": "stdout",
     "output_type": "stream",
     "text": [
      "(64, 64, 1)\n",
      "float32\n"
     ]
    }
   ],
   "source": [
    "print(img_tensor.shape)\n",
    "print(img_tensor.dtype)"
   ]
  },
  {
   "cell_type": "code",
   "execution_count": 57,
   "metadata": {},
   "outputs": [
    {
     "name": "stdout",
     "output_type": "stream",
     "text": [
      "(64, 64, 1)\n"
     ]
    },
    {
     "ename": "AttributeError",
     "evalue": "'Tensor' object has no attribute 'numpy'",
     "output_type": "error",
     "traceback": [
      "\u001b[0;31m---------------------------------------------------------------------------\u001b[0m",
      "\u001b[0;31mAttributeError\u001b[0m                            Traceback (most recent call last)",
      "\u001b[0;32m<ipython-input-57-bec0539cfc65>\u001b[0m in \u001b[0;36m<module>\u001b[0;34m()\u001b[0m\n\u001b[1;32m      1\u001b[0m \u001b[0mimg_tensor\u001b[0m \u001b[0;34m=\u001b[0m \u001b[0mtf\u001b[0m\u001b[0;34m.\u001b[0m\u001b[0mtruediv\u001b[0m\u001b[0;34m(\u001b[0m\u001b[0mimg_tensor\u001b[0m\u001b[0;34m,\u001b[0m\u001b[0;36m255.0\u001b[0m\u001b[0;34m)\u001b[0m\u001b[0;34m\u001b[0m\u001b[0m\n\u001b[1;32m      2\u001b[0m \u001b[0;32mprint\u001b[0m\u001b[0;34m(\u001b[0m\u001b[0mimg_tensor\u001b[0m\u001b[0;34m.\u001b[0m\u001b[0mshape\u001b[0m\u001b[0;34m)\u001b[0m\u001b[0;34m\u001b[0m\u001b[0m\n\u001b[0;32m----> 3\u001b[0;31m \u001b[0;32mprint\u001b[0m\u001b[0;34m(\u001b[0m\u001b[0mimg_tensor\u001b[0m\u001b[0;34m.\u001b[0m\u001b[0mnumpy\u001b[0m\u001b[0;34m(\u001b[0m\u001b[0;34m)\u001b[0m\u001b[0;34m.\u001b[0m\u001b[0mmin\u001b[0m\u001b[0;34m(\u001b[0m\u001b[0;34m)\u001b[0m\u001b[0;34m)\u001b[0m\u001b[0;34m\u001b[0m\u001b[0m\n\u001b[0m\u001b[1;32m      4\u001b[0m \u001b[0;32mprint\u001b[0m\u001b[0;34m(\u001b[0m\u001b[0mimg_tensor\u001b[0m\u001b[0;34m.\u001b[0m\u001b[0mnumpy\u001b[0m\u001b[0;34m(\u001b[0m\u001b[0;34m)\u001b[0m\u001b[0;34m.\u001b[0m\u001b[0mmax\u001b[0m\u001b[0;34m(\u001b[0m\u001b[0;34m)\u001b[0m\u001b[0;34m)\u001b[0m\u001b[0;34m\u001b[0m\u001b[0m\n",
      "\u001b[0;31mAttributeError\u001b[0m: 'Tensor' object has no attribute 'numpy'"
     ]
    }
   ],
   "source": [
    "img_tensor = tf.truediv(img_tensor,255.0)\n",
    "print(img_tensor.shape)\n",
    "print(img_tensor.numpy().min())\n",
    "print(img_tensor.numpy().max())"
   ]
  },
  {
   "cell_type": "code",
   "execution_count": 29,
   "metadata": {},
   "outputs": [
    {
     "data": {
      "text/plain": [
       "<tf.Tensor 'truediv:0' shape=<unknown> dtype=float32>"
      ]
     },
     "execution_count": 29,
     "metadata": {},
     "output_type": "execute_result"
    }
   ],
   "source": [
    "img_tensor"
   ]
  },
  {
   "cell_type": "code",
   "execution_count": 72,
   "metadata": {},
   "outputs": [],
   "source": [
    "def preprocess_image(image):\n",
    "    image = tf.cast(tf.image.decode_png(image, channels=1),tf.float32)\n",
    "    sess = tf.Session()\n",
    "    #   This is a stupid line here but it makes sure that tensorflow knows my image size when I put it in a dataset\n",
    "    image = tf.image.resize_images(image, [64,64])\n",
    "    image = image / 255.0  # normalize to [0,1] range\n",
    "    return image"
   ]
  },
  {
   "cell_type": "code",
   "execution_count": 73,
   "metadata": {},
   "outputs": [],
   "source": [
    "def load_and_preprocess_image(path):\n",
    "    image = tf.read_file(path)\n",
    "    return preprocess_image(image)"
   ]
  },
  {
   "cell_type": "code",
   "execution_count": 133,
   "metadata": {},
   "outputs": [],
   "source": [
    "s = load_and_preprocess_image(filePaths[0])\n",
    "tmpSess = tf.Session()\n",
    "s = s.eval(session=tmpSess)\n",
    "s"
   ]
  },
  {
   "cell_type": "code",
   "execution_count": 135,
   "metadata": {},
   "outputs": [],
   "source": [
    "all_tensors = []\n",
    "for f in filePaths:\n",
    "    all_tensors.append(load_and_preprocess_image(f))"
   ]
  },
  {
   "cell_type": "code",
   "execution_count": 141,
   "metadata": {},
   "outputs": [],
   "source": [
    "tensor_of_tensors = tf.convert_to_tensor(all_tensors)"
   ]
  },
  {
   "cell_type": "code",
   "execution_count": 142,
   "metadata": {},
   "outputs": [],
   "source": [
    "tensor_of_tensors = tensor_of_tensors.eval()"
   ]
  },
  {
   "cell_type": "code",
   "execution_count": 144,
   "metadata": {},
   "outputs": [],
   "source": [
    "ds_2 = tf.data.Dataset.from_tensor_slices(tensor_of_tensors)"
   ]
  },
  {
   "cell_type": "code",
   "execution_count": 146,
   "metadata": {},
   "outputs": [
    {
     "data": {
      "text/plain": [
       "<DatasetV1Adapter shapes: (64, 64, 1), types: tf.float32>"
      ]
     },
     "execution_count": 146,
     "metadata": {},
     "output_type": "execute_result"
    }
   ],
   "source": []
  },
  {
   "cell_type": "code",
   "execution_count": 147,
   "metadata": {},
   "outputs": [],
   "source": [
    "path_ds = tf.data.Dataset.from_tensor_slices(filePaths)"
   ]
  },
  {
   "cell_type": "code",
   "execution_count": 75,
   "metadata": {},
   "outputs": [
    {
     "name": "stdout",
     "output_type": "stream",
     "text": [
      "shape:  TensorShape([])\n",
      "type:  <dtype: 'string'>\n",
      "\n",
      "<DatasetV1Adapter shapes: (), types: tf.string>\n"
     ]
    }
   ],
   "source": [
    "print('shape: ', repr(path_ds.output_shapes))\n",
    "print('type: ', path_ds.output_types)\n",
    "print()\n",
    "print(path_ds)"
   ]
  },
  {
   "cell_type": "code",
   "execution_count": 76,
   "metadata": {},
   "outputs": [],
   "source": [
    "AUTOTUNE = tf.data.experimental.AUTOTUNE"
   ]
  },
  {
   "cell_type": "code",
   "execution_count": 77,
   "metadata": {},
   "outputs": [],
   "source": [
    "image_ds = path_ds.map(load_and_preprocess_image, num_parallel_calls=tf.data.experimental.AUTOTUNE)"
   ]
  },
  {
   "cell_type": "code",
   "execution_count": 153,
   "metadata": {},
   "outputs": [
    {
     "data": {
      "text/plain": [
       "<DatasetV1Adapter shapes: (64, 64, 1), types: tf.float32>"
      ]
     },
     "execution_count": 153,
     "metadata": {},
     "output_type": "execute_result"
    }
   ],
   "source": []
  },
  {
   "cell_type": "code",
   "execution_count": 151,
   "metadata": {},
   "outputs": [
    {
     "ename": "AttributeError",
     "evalue": "'DatasetV1Adapter' object has no attribute 'eval'",
     "output_type": "error",
     "traceback": [
      "\u001b[0;31m---------------------------------------------------------------------------\u001b[0m",
      "\u001b[0;31mAttributeError\u001b[0m                            Traceback (most recent call last)",
      "\u001b[0;32m<ipython-input-151-d230509c7f41>\u001b[0m in \u001b[0;36m<module>\u001b[0;34m()\u001b[0m\n\u001b[1;32m      2\u001b[0m \u001b[0;34m\u001b[0m\u001b[0m\n\u001b[1;32m      3\u001b[0m \u001b[0msess\u001b[0m \u001b[0;34m=\u001b[0m \u001b[0mtf\u001b[0m\u001b[0;34m.\u001b[0m\u001b[0mInteractiveSession\u001b[0m\u001b[0;34m(\u001b[0m\u001b[0;34m)\u001b[0m\u001b[0;34m\u001b[0m\u001b[0m\n\u001b[0;32m----> 4\u001b[0;31m \u001b[0;32mfor\u001b[0m \u001b[0mn\u001b[0m\u001b[0;34m,\u001b[0m\u001b[0mimage\u001b[0m \u001b[0;32min\u001b[0m \u001b[0menumerate\u001b[0m\u001b[0;34m(\u001b[0m\u001b[0mds_2\u001b[0m\u001b[0;34m.\u001b[0m\u001b[0mtake\u001b[0m\u001b[0;34m(\u001b[0m\u001b[0;36m4\u001b[0m\u001b[0;34m)\u001b[0m\u001b[0;34m.\u001b[0m\u001b[0meval\u001b[0m\u001b[0;34m(\u001b[0m\u001b[0;34m)\u001b[0m\u001b[0;34m)\u001b[0m\u001b[0;34m:\u001b[0m\u001b[0;34m\u001b[0m\u001b[0m\n\u001b[0m\u001b[1;32m      5\u001b[0m     \u001b[0;32mprint\u001b[0m\u001b[0;34m(\u001b[0m\u001b[0mimage\u001b[0m\u001b[0;34m.\u001b[0m\u001b[0mnumpy\u001b[0m\u001b[0;34m(\u001b[0m\u001b[0;34m)\u001b[0m\u001b[0;34m.\u001b[0m\u001b[0mreshape\u001b[0m\u001b[0;34m(\u001b[0m\u001b[0;34m(\u001b[0m\u001b[0;36m64\u001b[0m\u001b[0;34m,\u001b[0m\u001b[0;36m64\u001b[0m\u001b[0;34m)\u001b[0m\u001b[0;34m)\u001b[0m\u001b[0;34m.\u001b[0m\u001b[0mshape\u001b[0m\u001b[0;34m)\u001b[0m\u001b[0;34m\u001b[0m\u001b[0m\n\u001b[1;32m      6\u001b[0m     \u001b[0mim\u001b[0m \u001b[0;34m=\u001b[0m \u001b[0mImage\u001b[0m\u001b[0;34m.\u001b[0m\u001b[0mfromarray\u001b[0m\u001b[0;34m(\u001b[0m\u001b[0mimage\u001b[0m\u001b[0;34m.\u001b[0m\u001b[0mnumpy\u001b[0m\u001b[0;34m(\u001b[0m\u001b[0;34m)\u001b[0m\u001b[0;34m.\u001b[0m\u001b[0mreshape\u001b[0m\u001b[0;34m(\u001b[0m\u001b[0;34m(\u001b[0m\u001b[0;36m64\u001b[0m\u001b[0;34m,\u001b[0m\u001b[0;36m64\u001b[0m\u001b[0;34m)\u001b[0m\u001b[0;34m)\u001b[0m\u001b[0;34m*\u001b[0m\u001b[0;36m255\u001b[0m\u001b[0;34m)\u001b[0m\u001b[0;34m\u001b[0m\u001b[0m\n",
      "\u001b[0;31mAttributeError\u001b[0m: 'DatasetV1Adapter' object has no attribute 'eval'"
     ]
    }
   ],
   "source": [
    "from PIL import Image\n",
    "\n",
    "sess = tf.InteractiveSession()\n",
    "for n,image in enumerate(ds_2.take(4)):\n",
    "    print(image.numpy().reshape((64,64)).shape)\n",
    "    im = Image.fromarray(image.numpy().reshape((64,64))*255)\n",
    "    im.show()\n",
    "    "
   ]
  },
  {
   "cell_type": "code",
   "execution_count": 38,
   "metadata": {},
   "outputs": [],
   "source": [
    "label_ds = tf.data.Dataset.from_tensor_slices(tf.cast(all_labels, tf.int64))\n",
    "# for label in label_ds.take(10):\n",
    "#     print(label_names[label.numpy()])"
   ]
  },
  {
   "cell_type": "code",
   "execution_count": 148,
   "metadata": {},
   "outputs": [
    {
     "name": "stdout",
     "output_type": "stream",
     "text": [
      "image shape:  (64, 64, 1)\n",
      "label shape:  ()\n",
      "types:  (tf.float32, tf.int64)\n",
      "\n",
      "<DatasetV1Adapter shapes: ((64, 64, 1), ()), types: (tf.float32, tf.int64)>\n"
     ]
    }
   ],
   "source": [
    "image_label_ds = tf.data.Dataset.zip((ds_2, label_ds))\n",
    "\n",
    "print('image shape: ', image_label_ds.output_shapes[0])\n",
    "print('label shape: ', image_label_ds.output_shapes[1])\n",
    "print('types: ', image_label_ds.output_types)\n",
    "print()\n",
    "print(image_label_ds)"
   ]
  },
  {
   "cell_type": "code",
   "execution_count": 154,
   "metadata": {},
   "outputs": [
    {
     "data": {
      "text/plain": [
       "<DatasetV1Adapter shapes: ((?, 64, 64, 1), (?,)), types: (tf.float32, tf.int64)>"
      ]
     },
     "execution_count": 154,
     "metadata": {},
     "output_type": "execute_result"
    }
   ],
   "source": [
    "BATCH_SIZE = 32\n",
    "\n",
    "ds = image_label_ds.shuffle(buffer_size=image_count)\n",
    "# FUll shuffle when buffer size is image count\n",
    "ds = ds.repeat()\n",
    "# makes sure that the dataset keeps feeding into the model on a loop \n",
    "ds = ds.batch(BATCH_SIZE)\n",
    "# makes sure we have some data loaded ahead of time to maximize speed\n",
    "ds = ds.prefetch(buffer_size=AUTOTUNE)\n",
    "ds"
   ]
  },
  {
   "cell_type": "code",
   "execution_count": 158,
   "metadata": {},
   "outputs": [],
   "source": [
    "dsIter = ds.make_one_shot_iterator()"
   ]
  },
  {
   "cell_type": "code",
   "execution_count": 159,
   "metadata": {},
   "outputs": [],
   "source": [
    "s = dsIter.get_next()"
   ]
  },
  {
   "cell_type": "code",
   "execution_count": 174,
   "metadata": {},
   "outputs": [
    {
     "data": {
      "text/plain": [
       "(array([[[[0.15686275],\n",
       "          [0.20784314],\n",
       "          [0.27058825],\n",
       "          ...,\n",
       "          [0.52156866],\n",
       "          [0.48235294],\n",
       "          [0.45490196]],\n",
       " \n",
       "         [[0.12941177],\n",
       "          [0.1882353 ],\n",
       "          [0.24313726],\n",
       "          ...,\n",
       "          [0.5254902 ],\n",
       "          [0.49803922],\n",
       "          [0.44705883]],\n",
       " \n",
       "         [[0.09803922],\n",
       "          [0.16862746],\n",
       "          [0.24313726],\n",
       "          ...,\n",
       "          [0.53333336],\n",
       "          [0.5137255 ],\n",
       "          [0.4509804 ]],\n",
       " \n",
       "         ...,\n",
       " \n",
       "         [[0.53333336],\n",
       "          [0.5686275 ],\n",
       "          [0.6627451 ],\n",
       "          ...,\n",
       "          [0.3019608 ],\n",
       "          [0.20392157],\n",
       "          [0.07450981]],\n",
       " \n",
       "         [[0.5176471 ],\n",
       "          [0.6392157 ],\n",
       "          [0.6627451 ],\n",
       "          ...,\n",
       "          [0.28235295],\n",
       "          [0.19215687],\n",
       "          [0.06666667]],\n",
       " \n",
       "         [[0.49803922],\n",
       "          [0.6509804 ],\n",
       "          [0.654902  ],\n",
       "          ...,\n",
       "          [0.2627451 ],\n",
       "          [0.18431373],\n",
       "          [0.05490196]]],\n",
       " \n",
       " \n",
       "        [[[0.5137255 ],\n",
       "          [0.49803922],\n",
       "          [0.5137255 ],\n",
       "          ...,\n",
       "          [0.5882353 ],\n",
       "          [0.59607846],\n",
       "          [0.5686275 ]],\n",
       " \n",
       "         [[0.5372549 ],\n",
       "          [0.5372549 ],\n",
       "          [0.5372549 ],\n",
       "          ...,\n",
       "          [0.6039216 ],\n",
       "          [0.6       ],\n",
       "          [0.5764706 ]],\n",
       " \n",
       "         [[0.5529412 ],\n",
       "          [0.54509807],\n",
       "          [0.5529412 ],\n",
       "          ...,\n",
       "          [0.6156863 ],\n",
       "          [0.60784316],\n",
       "          [0.5764706 ]],\n",
       " \n",
       "         ...,\n",
       " \n",
       "         [[0.7490196 ],\n",
       "          [0.7647059 ],\n",
       "          [0.7647059 ],\n",
       "          ...,\n",
       "          [0.65882355],\n",
       "          [0.64705884],\n",
       "          [0.62352943]],\n",
       " \n",
       "         [[0.7529412 ],\n",
       "          [0.75686276],\n",
       "          [0.7607843 ],\n",
       "          ...,\n",
       "          [0.65882355],\n",
       "          [0.6666667 ],\n",
       "          [0.62352943]],\n",
       " \n",
       "         [[0.74509805],\n",
       "          [0.7490196 ],\n",
       "          [0.75686276],\n",
       "          ...,\n",
       "          [0.65882355],\n",
       "          [0.68235296],\n",
       "          [0.6431373 ]]],\n",
       " \n",
       " \n",
       "        [[[0.6627451 ],\n",
       "          [0.6627451 ],\n",
       "          [0.6784314 ],\n",
       "          ...,\n",
       "          [0.58431375],\n",
       "          [0.59607846],\n",
       "          [0.6156863 ]],\n",
       " \n",
       "         [[0.67058825],\n",
       "          [0.6666667 ],\n",
       "          [0.68235296],\n",
       "          ...,\n",
       "          [0.5882353 ],\n",
       "          [0.6117647 ],\n",
       "          [0.6313726 ]],\n",
       " \n",
       "         [[0.67058825],\n",
       "          [0.67058825],\n",
       "          [0.6862745 ],\n",
       "          ...,\n",
       "          [0.53333336],\n",
       "          [0.56078434],\n",
       "          [0.5882353 ]],\n",
       " \n",
       "         ...,\n",
       " \n",
       "         [[0.75686276],\n",
       "          [0.75686276],\n",
       "          [0.7647059 ],\n",
       "          ...,\n",
       "          [0.69803923],\n",
       "          [0.69803923],\n",
       "          [0.7019608 ]],\n",
       " \n",
       "         [[0.7529412 ],\n",
       "          [0.7607843 ],\n",
       "          [0.7607843 ],\n",
       "          ...,\n",
       "          [0.7019608 ],\n",
       "          [0.69803923],\n",
       "          [0.69803923]],\n",
       " \n",
       "         [[0.75686276],\n",
       "          [0.7607843 ],\n",
       "          [0.7607843 ],\n",
       "          ...,\n",
       "          [0.7058824 ],\n",
       "          [0.7058824 ],\n",
       "          [0.69803923]]],\n",
       " \n",
       " \n",
       "        ...,\n",
       " \n",
       " \n",
       "        [[[0.18431373],\n",
       "          [0.18431373],\n",
       "          [0.19607843],\n",
       "          ...,\n",
       "          [0.2784314 ],\n",
       "          [0.32156864],\n",
       "          [0.27058825]],\n",
       " \n",
       "         [[0.19215687],\n",
       "          [0.1882353 ],\n",
       "          [0.2       ],\n",
       "          ...,\n",
       "          [0.30588236],\n",
       "          [0.32156864],\n",
       "          [0.3137255 ]],\n",
       " \n",
       "         [[0.21960784],\n",
       "          [0.20784314],\n",
       "          [0.20784314],\n",
       "          ...,\n",
       "          [0.29803923],\n",
       "          [0.29803923],\n",
       "          [0.32941177]],\n",
       " \n",
       "         ...,\n",
       " \n",
       "         [[0.54901963],\n",
       "          [0.56078434],\n",
       "          [0.56078434],\n",
       "          ...,\n",
       "          [0.54901963],\n",
       "          [0.54509807],\n",
       "          [0.5372549 ]],\n",
       " \n",
       "         [[0.5568628 ],\n",
       "          [0.5568628 ],\n",
       "          [0.5529412 ],\n",
       "          ...,\n",
       "          [0.5568628 ],\n",
       "          [0.5529412 ],\n",
       "          [0.54509807]],\n",
       " \n",
       "         [[0.5529412 ],\n",
       "          [0.54901963],\n",
       "          [0.5568628 ],\n",
       "          ...,\n",
       "          [0.5568628 ],\n",
       "          [0.5568628 ],\n",
       "          [0.54901963]]],\n",
       " \n",
       " \n",
       "        [[[0.5019608 ],\n",
       "          [0.52156866],\n",
       "          [0.53333336],\n",
       "          ...,\n",
       "          [0.4392157 ],\n",
       "          [0.43529412],\n",
       "          [0.4392157 ]],\n",
       " \n",
       "         [[0.5294118 ],\n",
       "          [0.54901963],\n",
       "          [0.5647059 ],\n",
       "          ...,\n",
       "          [0.4745098 ],\n",
       "          [0.47843137],\n",
       "          [0.4627451 ]],\n",
       " \n",
       "         [[0.54509807],\n",
       "          [0.56078434],\n",
       "          [0.58431375],\n",
       "          ...,\n",
       "          [0.5058824 ],\n",
       "          [0.5019608 ],\n",
       "          [0.5137255 ]],\n",
       " \n",
       "         ...,\n",
       " \n",
       "         [[0.77254903],\n",
       "          [0.77254903],\n",
       "          [0.7764706 ],\n",
       "          ...,\n",
       "          [0.7529412 ],\n",
       "          [0.77254903],\n",
       "          [0.76862746]],\n",
       " \n",
       "         [[0.76862746],\n",
       "          [0.77254903],\n",
       "          [0.7764706 ],\n",
       "          ...,\n",
       "          [0.7607843 ],\n",
       "          [0.77254903],\n",
       "          [0.78039217]],\n",
       " \n",
       "         [[0.76862746],\n",
       "          [0.77254903],\n",
       "          [0.78039217],\n",
       "          ...,\n",
       "          [0.7647059 ],\n",
       "          [0.7607843 ],\n",
       "          [0.7764706 ]]],\n",
       " \n",
       " \n",
       "        [[[0.5019608 ],\n",
       "          [0.5254902 ],\n",
       "          [0.5568628 ],\n",
       "          ...,\n",
       "          [0.48235294],\n",
       "          [0.4627451 ],\n",
       "          [0.5372549 ]],\n",
       " \n",
       "         [[0.54901963],\n",
       "          [0.5372549 ],\n",
       "          [0.56078434],\n",
       "          ...,\n",
       "          [0.4627451 ],\n",
       "          [0.49019608],\n",
       "          [0.54901963]],\n",
       " \n",
       "         [[0.53333336],\n",
       "          [0.56078434],\n",
       "          [0.57254905],\n",
       "          ...,\n",
       "          [0.4745098 ],\n",
       "          [0.54509807],\n",
       "          [0.44705883]],\n",
       " \n",
       "         ...,\n",
       " \n",
       "         [[0.5568628 ],\n",
       "          [0.57254905],\n",
       "          [0.5921569 ],\n",
       "          ...,\n",
       "          [0.5137255 ],\n",
       "          [0.5568628 ],\n",
       "          [0.65882355]],\n",
       " \n",
       "         [[0.5254902 ],\n",
       "          [0.59607846],\n",
       "          [0.6039216 ],\n",
       "          ...,\n",
       "          [0.5294118 ],\n",
       "          [0.5254902 ],\n",
       "          [0.627451  ]],\n",
       " \n",
       "         [[0.5137255 ],\n",
       "          [0.5882353 ],\n",
       "          [0.6156863 ],\n",
       "          ...,\n",
       "          [0.5411765 ],\n",
       "          [0.54901963],\n",
       "          [0.60784316]]]], dtype=float32),\n",
       " array([0, 1, 1, 0, 1, 1, 0, 0, 1, 0, 0, 0, 1, 0, 1, 1, 1, 1, 0, 0, 0, 0,\n",
       "        0, 0, 0, 0, 0, 0, 0, 1, 0, 0]))"
      ]
     },
     "execution_count": 174,
     "metadata": {},
     "output_type": "execute_result"
    }
   ],
   "source": [
    "tmpSess = tf.Session()\n",
    "tmpSess.run(s)"
   ]
  },
  {
   "cell_type": "code",
   "execution_count": 176,
   "metadata": {},
   "outputs": [
    {
     "data": {
      "text/plain": [
       "[0, 2]"
      ]
     },
     "execution_count": 176,
     "metadata": {},
     "output_type": "execute_result"
    }
   ],
   "source": [
    "list((0,2))"
   ]
  }
 ],
 "metadata": {
  "kernelspec": {
   "display_name": "Python 2",
   "language": "python",
   "name": "python2"
  },
  "language_info": {
   "codemirror_mode": {
    "name": "ipython",
    "version": 2
   },
   "file_extension": ".py",
   "mimetype": "text/x-python",
   "name": "python",
   "nbconvert_exporter": "python",
   "pygments_lexer": "ipython2",
   "version": "2.7.15"
  }
 },
 "nbformat": 4,
 "nbformat_minor": 2
}
